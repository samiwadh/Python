{
 "cells": [
  {
   "cell_type": "code",
   "execution_count": 4,
   "id": "5bce508f",
   "metadata": {},
   "outputs": [
    {
     "name": "stdout",
     "output_type": "stream",
     "text": [
      "30\n",
      "30\n",
      "30 90\n",
      "120\n"
     ]
    }
   ],
   "source": [
    "                                    #Week  8 \n",
    "                            #Function 48 Using functions as variables (which is what they really are)\n",
    "        #hold data and assign data through variable here\n",
    "def add(a,b):\n",
    "    return a+b \n",
    "addition =add(10,20)\n",
    "print(addition)\n",
    "\n",
    "#--------------or\n",
    "        #here we give value or data directly to the variable\n",
    "def add(a,b):\n",
    "    return a+b \n",
    "print(add(10,20))0\n",
    "\n",
    "#-----------------or\n",
    "        #here we add to differnet orders in next example we add those order \n",
    "def add(a,b):\n",
    "    return a+b \n",
    "print(add(10,20),add(40,50))\n",
    "\n",
    "\n",
    "#------------------\n",
    "        #here we add both different order\n",
    "def add(a,b):\n",
    "    return a+b \n",
    "print(add(add(10,20),add(40,50)))"
   ]
  },
  {
   "cell_type": "code",
   "execution_count": 1,
   "id": "1b0da20f",
   "metadata": {},
   "outputs": [
    {
     "name": "stdout",
     "output_type": "stream",
     "text": [
      "samiwadho\n",
      "Show = sami\n",
      "samiwadho\n"
     ]
    }
   ],
   "source": [
    "                                    #Function 49\n",
    "                            #Functions: Local vs. global variables\n",
    "\n",
    "name = 'samiwadho'# THIS IS Golobal variable any variable which is out of def funtion is golobal variable\n",
    "def change_name():\n",
    "    name = 'sami'\n",
    "print(name)\n",
    "\n",
    "\n",
    "\n",
    "#-----------\n",
    "name = 'samiwadho'\n",
    "def change_name():\n",
    "    name = 'sami'\n",
    "    print('Show =',name )\n",
    "change_name()\n",
    "print(name)\n",
    "\n",
    "\n",
    "\n",
    "\n",
    "\n"
   ]
  },
  {
   "cell_type": "code",
   "execution_count": 12,
   "id": "841ecab8",
   "metadata": {},
   "outputs": [
    {
     "name": "stdout",
     "output_type": "stream",
     "text": [
      "Show = sami\n",
      "sami\n"
     ]
    }
   ],
   "source": [
    "#----------\n",
    "def change_name():\n",
    "    print('Show =',name )\n",
    "change_name()\n",
    "name = 'sami'\n",
    "print(name)"
   ]
  },
  {
   "cell_type": "code",
   "execution_count": 14,
   "id": "e2b36533",
   "metadata": {},
   "outputs": [
    {
     "name": "stdout",
     "output_type": "stream",
     "text": [
      "Show = sami 45\n",
      "samiwadho 45\n"
     ]
    }
   ],
   "source": [
    "name = 'samiwadho'\n",
    "age = 45\n",
    "def change_name():\n",
    "    name = 'sami'\n",
    "    print('Show =',name ,age)\n",
    "change_name()\n",
    "print(name ,age)\n",
    "\n"
   ]
  },
  {
   "cell_type": "code",
   "execution_count": 2,
   "id": "83da454d",
   "metadata": {},
   "outputs": [
    {
     "name": "stdout",
     "output_type": "stream",
     "text": [
      "7\n"
     ]
    }
   ],
   "source": [
    "                        #50 Functions within functions\n",
    "    # we make calculator\n",
    "    \n",
    "def add(num1,num2):\n",
    "    return num1 + num2 \n",
    "def subtract(num1 , num2):\n",
    "    return num1 - num2 \n",
    "\n",
    "def calculator(num1 ,num2 ,op):\n",
    "    if op == '+' :\n",
    "        print(add (num1,num2))\n",
    "    elif op == '-':\n",
    "        print(subtract(num1 ,num2))\n",
    "    else:\n",
    "        print('bad operator')\n",
    "calculator (2,5,'+')\n",
    "        "
   ]
  },
  {
   "cell_type": "code",
   "execution_count": 4,
   "id": "dc579e44",
   "metadata": {},
   "outputs": [
    {
     "name": "stdout",
     "output_type": "stream",
     "text": [
      "wadho\n"
     ]
    }
   ],
   "source": [
    "                    # nested funtion \n",
    "    #here some_private it show only task person  who want to access task function  \n",
    "def task(name):\n",
    "    def some_private():\n",
    "        print(name)\n",
    "    some_private()\n",
    "task('wadho')"
   ]
  },
  {
   "cell_type": "code",
   "execution_count": 6,
   "id": "fa8a01ff",
   "metadata": {},
   "outputs": [
    {
     "name": "stdout",
     "output_type": "stream",
     "text": [
      "2\n",
      "4\n",
      "8\n",
      "16\n",
      "32\n",
      "While loop\n"
     ]
    }
   ],
   "source": [
    "                    # 51 while loop in Function \n",
    "#for loop and while itrative code block \n",
    "#itrative mean repationg some block agian  and again\n",
    "\n",
    "# In for loop we asscss number mean it run that time which we provide\n",
    "# In while loop it run on the condition means how much it run based on condition \n",
    "\n",
    "\n",
    "num = 1\n",
    "while num < 20 :\n",
    "    num *= 2 # this multiple with 2 \n",
    "    print(num)\n",
    "print(\"While loop\")\n"
   ]
  },
  {
   "cell_type": "code",
   "execution_count": 14,
   "id": "5e6639e4",
   "metadata": {},
   "outputs": [
    {
     "name": "stdout",
     "output_type": "stream",
     "text": [
      "2\n",
      "4\n",
      "8\n",
      "16\n",
      "32\n",
      "While loop\n"
     ]
    }
   ],
   "source": [
    "                    # 52 while loop in string Function \n",
    "    \n",
    "\n",
    "num = 1\n",
    "islesser_then_20 = True\n",
    "while islesser_then_20 :\n",
    "    num *= 2 # this multiple with 2 \n",
    "    print(num)\n",
    "    if num >= 20:\n",
    "         islesser_then_20 =False\n",
    "print(\"While loop\")\n",
    "\n",
    "\n"
   ]
  },
  {
   "cell_type": "code",
   "execution_count": 15,
   "id": "ed94304e",
   "metadata": {},
   "outputs": [
    {
     "name": "stdout",
     "output_type": "stream",
     "text": [
      "While loop\n"
     ]
    }
   ],
   "source": [
    "# Flag variable is used as a signal in programming to let the program know that a certain condition has met\n",
    "#we use flag value \n",
    "num = 1\n",
    "#islesser_then_20 = True\n",
    "while islesser_then_20 :\n",
    "    num *= 2 # this multiple with 2 \n",
    "    print(num)\n",
    "    if num >= 20:\n",
    "         break #we use flag value \n",
    "         #islesser_then_20 =False\n",
    "print(\"While loop\")"
   ]
  },
  {
   "cell_type": "code",
   "execution_count": 17,
   "id": "837cd5ef",
   "metadata": {},
   "outputs": [
    {
     "ename": "TypeError",
     "evalue": "Patient() takes no arguments",
     "output_type": "error",
     "traceback": [
      "\u001b[0;31m---------------------------------------------------------------------------\u001b[0m",
      "\u001b[0;31mTypeError\u001b[0m                                 Traceback (most recent call last)",
      "Cell \u001b[0;32mIn[17], line 13\u001b[0m\n\u001b[1;32m     11\u001b[0m         \u001b[38;5;28mself\u001b[39m\u001b[38;5;241m.\u001b[39mname \u001b[38;5;241m=\u001b[39m name   \u001b[38;5;66;03m# name atrbute 1\u001b[39;00m\n\u001b[1;32m     12\u001b[0m         \u001b[38;5;28mself\u001b[39m\u001b[38;5;241m.\u001b[39mage \u001b[38;5;241m=\u001b[39m age     \u001b[38;5;66;03m# name atrbute 2\u001b[39;00m\n\u001b[0;32m---> 13\u001b[0m Patient \u001b[38;5;241m=\u001b[39m Patient(\u001b[38;5;124m'\u001b[39m\u001b[38;5;124msami\u001b[39m\u001b[38;5;124m'\u001b[39m,\u001b[38;5;241m56\u001b[39m)\n",
      "\u001b[0;31mTypeError\u001b[0m: Patient() takes no arguments"
     ]
    }
   ],
   "source": [
    "                                #53 classes# it is through process it is oop  \n",
    "    # classes  are templates which help us standartize and organize information\n",
    "    # class and object are different\n",
    "    # we can create million of object in class\n",
    "    # it is poosible two object attrabie have same value but they phycial they both differnt \n",
    "    # like sami name has many person name  but i am one of sami\n",
    "    \n",
    "class Patient():\n",
    "    def _init_(self,name = 'Patient Name', age = -1):  # _init_ None  here this show the contacter ,\n",
    "                                                         #we can also say that it is resverd \n",
    "        self.name = name   # name atrbute 1\n",
    "        self.age = age     # name atrbute 2\n",
    "Patient = Patient('sami',56)\n",
    "         \n"
   ]
  },
  {
   "cell_type": "code",
   "execution_count": 16,
   "id": "00a36a4a",
   "metadata": {},
   "outputs": [
    {
     "name": "stdout",
     "output_type": "stream",
     "text": [
      "Patient name is sami, he is 56 year old \n"
     ]
    }
   ],
   "source": [
    "                # 58 classes : Classes: Getting info out of instances\n",
    "                # always make succes that the class name is in captical latter , \n",
    "                # if there are many word in class name \n",
    "                #then we make every word starting letter captical like Patient , PatientWard\n",
    "                # now how we extract info\n",
    "        \n",
    "class Patient():\n",
    "     # _init_ None  here this show the constructor  ,#we can also say that it is resver\n",
    "    def __init__(self,name = 'Patient Name', age = -1):                                             \n",
    "        self.name = name   # name atrbute 1\n",
    "        self.age = age     # name atrbute 2\n",
    "        self.tax_bracket = None\n",
    "patient = Patient('sami',56)\n",
    "print(f'Patient name is {patient.name}, he is {patient.age} year old ')\n",
    "    # f = this is formnation stirng\n",
    "    \n",
    "    "
   ]
  },
  {
   "cell_type": "code",
   "execution_count": 20,
   "id": "febc6d4c",
   "metadata": {},
   "outputs": [
    {
     "name": "stdout",
     "output_type": "stream",
     "text": [
      "Patient name is sami, he is 56 year old ,he is admitted in ward : None\n"
     ]
    }
   ],
   "source": [
    "                                        # Note important\n",
    "# we can build the function into the class itself. When we do that, the function is called a method\n",
    "class Patient():\n",
    "    \n",
    "    def __init__(self,name = 'Patient Name', age = -1):                                             \n",
    "        self.name = name  \n",
    "        self.age = age     \n",
    "        self.tax_bracket = None\n",
    "        self.ward = None\n",
    "    def admission(self, ward_name):\n",
    "        self.ward = ward_name\n",
    "patient = Patient('sami',56)\n",
    "print(f'Patient name is {patient.name}, he is {patient.age} year old ,he is admitted in ward : {patient.ward}')"
   ]
  },
  {
   "cell_type": "code",
   "execution_count": 25,
   "id": "5453f6a7",
   "metadata": {},
   "outputs": [
    {
     "name": "stdout",
     "output_type": "stream",
     "text": [
      "Patient name is sami, he is 56 year old ,he is admitted in ward : None\n",
      "\n",
      "patient name is sami is now adimitted in ward headach \n"
     ]
    }
   ],
   "source": [
    "                                        # Note important\n",
    "# we can build the function into the class itself. When we do that, the function is called a method\n",
    "# Models are code representation of what you have in database.\n",
    "# Controllers are responsible for accepting request, calling appropriate logic and returning a response.\n",
    "class Patient():\n",
    "    \n",
    "    def __init__(self,name = 'Patient Name', age = -1):                                             \n",
    "        self.name = name  \n",
    "        self.age = age     \n",
    "        self.tax_bracket = None\n",
    "        self.ward = None\n",
    "        \n",
    "    def admission(self, ward_name):\n",
    "        self.ward = ward_name\n",
    "        \n",
    "patient = Patient('sami',56)\n",
    "print(f'Patient name is {patient.name}, he is {patient.age} year old ,he is admitted in ward : {patient.ward}')\n",
    "\n",
    "patient.admission('headach')\n",
    "print(f'\\npatient name is {patient.name} is now adimitted in ward {patient.ward} ')"
   ]
  },
  {
   "cell_type": "code",
   "execution_count": 26,
   "id": "386d1490",
   "metadata": {},
   "outputs": [
    {
     "name": "stdout",
     "output_type": "stream",
     "text": [
      "Patient name is sami, he is 56 year old ,he is admitted in ward : None\n",
      "\n",
      "patient name is sami is now adimitted in ward headach \n",
      "\n",
      "patient name is sami is now adimitted in ward neuro \n"
     ]
    }
   ],
   "source": [
    "                        # 61 Classes: Changing an attribute's value..\n",
    "class Patient():\n",
    "    \n",
    "    def __init__(self,name = 'Patient Name', age = -1):                                             \n",
    "        self.name = name  \n",
    "        self.age = age     \n",
    "        self.tax_bracket = None\n",
    "        self.ward = None\n",
    "        \n",
    "    def admission(self, ward_name):\n",
    "        self.ward = ward_name\n",
    "        \n",
    "patient = Patient('sami',56)\n",
    "print(f'Patient name is {patient.name}, he is {patient.age} year old ,he is admitted in ward : {patient.ward}')\n",
    "\n",
    "patient.admission('headach')\n",
    "print(f'\\npatient name is {patient.name} is now adimitted in ward {patient.ward} ')\n",
    "\n",
    "\n",
    "patient.ward ='neuro' # here we Changing an attribute's value.\n",
    "print(f'\\npatient name is {patient.name} is now adimitted in ward {patient.ward} ')"
   ]
  },
  {
   "cell_type": "code",
   "execution_count": null,
   "id": "2a5b5b3d",
   "metadata": {},
   "outputs": [],
   "source": [
    "                                        #62 Data files\n",
    "   # dynamic programming language don't have data\n"
   ]
  }
 ],
 "metadata": {
  "kernelspec": {
   "display_name": "Python 3 (ipykernel)",
   "language": "python",
   "name": "python3"
  },
  "language_info": {
   "codemirror_mode": {
    "name": "ipython",
    "version": 3
   },
   "file_extension": ".py",
   "mimetype": "text/x-python",
   "name": "python",
   "nbconvert_exporter": "python",
   "pygments_lexer": "ipython3",
   "version": "3.11.3"
  }
 },
 "nbformat": 4,
 "nbformat_minor": 5
}
