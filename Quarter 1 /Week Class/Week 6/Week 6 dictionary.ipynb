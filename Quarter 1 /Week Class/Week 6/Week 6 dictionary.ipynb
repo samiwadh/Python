{
 "cells": [
  {
   "cell_type": "code",
   "execution_count": 35,
   "id": "8fdb356b",
   "metadata": {},
   "outputs": [
    {
     "name": "stdout",
     "output_type": "stream",
     "text": [
      "{'name': 'Sadique', 'father_name': 'Abdullah', 'age': 15, 'gender': 'M', 'date_of_birth': '11 June 2022'}\n",
      "Name = Sadique\n",
      "age = 15\n",
      "{'first_name': ('Sami', 'Ali')}\n",
      "{'Name': 'Abdul Sami ', 'Caste': 'Wadho', 'Religion': 'Islam', 'Age': 90, 'Gender': 'M'}\n",
      "{'Name': 'Abdul Sami ', 'Caste': 'Wadho', 'Religion': 'Islam', 'Gender': 'M', 'DOB': ['23/12/2001']}\n",
      "i {'Name': 'Abdul Sami ', 'Caste': 'Wadho', 'Religion': 'Islam', 'Gender': 'M', 'DOB': ['23/12/2001']}\n",
      "i {'Name': 'Abdul Sami ', 'Caste': 'Wadho', 'Religion': 'Islam', 'Gender': 'M', 'DOB': ['23/12/2001']}\n",
      "i {'Name': 'Abdul Sami ', 'Caste': 'Wadho', 'Religion': 'Islam', 'Gender': 'M', 'DOB': ['23/12/2001']}\n",
      "i {'Name': 'Abdul Sami ', 'Caste': 'Wadho', 'Religion': 'Islam', 'Gender': 'M', 'DOB': ['23/12/2001']}\n",
      "i {'Name': 'Abdul Sami ', 'Caste': 'Wadho', 'Religion': 'Islam', 'Gender': 'M', 'DOB': ['23/12/2001']}\n",
      "{'Name': 'Abdul Sami ', 'Caste': 'Wadho', 'Religion': 'Islam', 'Gender': 'M', 'DOB': ['3/2/1']}\n",
      "{'Name': 'Abdul Sami ', 'Caste': 'Wadho', 'Religion': 'Islam', 'Gender': 'M', 'DOB': ['3/2/1']}\n",
      "{'Name': 'Abdul Sami ', 'Caste': 'Wadho', 'Religion': 'Islam', 'Gender': 'M', 'DOB': ['3/2/1']}\n",
      "{'Name': 'Abdul Sami ', 'Caste': 'Wadho', 'Religion': 'Islam', 'Gender': 'M', 'DOB': ['3/2/1']}\n",
      "{'Name': 'Abdul Sami ', 'Caste': 'Wadho', 'Religion': 'Islam', 'Gender': 'M', 'DOB': ['3/2/1']}\n",
      "{'Name': 'Abdul Sami ', 'Caste': 'Wadho', 'Religion': 'Islam', 'Gender': 'M', 'DOB': ['3/2/1']}\n",
      "{'Name': 'Abdul Sami ', 'Caste': 'Wadho', 'Religion': 'Islam', 'Gender': 'M', 'DOB': ['3/2/1']}\n",
      "{'Name': 'Abdul Sami ', 'Caste': 'Wadho', 'Religion': 'Islam', 'Gender': 'M', 'DOB': ['3/2/1']}\n",
      "{'Name': 'Abdul Sami ', 'Caste': 'Wadho', 'Religion': 'Islam', 'Gender': 'M', 'DOB': ['3/2/1']}\n",
      "{'Name': 'Abdul Sami ', 'Caste': 'Wadho', 'Religion': 'Islam', 'Gender': 'M', 'DOB': ['3/2/1']}\n",
      "dict_values(['Abdul Sami ', 'Wadho', 'Islam', 'M', ['3/2/1']])\n",
      "dict_keys(['Name', 'Caste', 'Religion', 'Gender', 'DOB'])\n",
      "{'Name': 'Abdul Sami ', 'Caste': 'Wadho', 'Religion': 'Islam', 'Gender': 'M', 'DOB': ['3/2/1']}\n",
      "Name Abdul Sami \n",
      "{'Name': 'Abdul Sami ', 'Caste': 'Wadho', 'Religion': 'Islam', 'Gender': 'M', 'DOB': ['3/2/1']}\n",
      "Caste Wadho\n",
      "{'Name': 'Abdul Sami ', 'Caste': 'Wadho', 'Religion': 'Islam', 'Gender': 'M', 'DOB': ['3/2/1']}\n",
      "Religion Islam\n",
      "{'Name': 'Abdul Sami ', 'Caste': 'Wadho', 'Religion': 'Islam', 'Gender': 'M', 'DOB': ['3/2/1']}\n",
      "Gender M\n",
      "{'Name': 'Abdul Sami ', 'Caste': 'Wadho', 'Religion': 'Islam', 'Gender': 'M', 'DOB': ['3/2/1']}\n",
      "DOB ['3/2/1']\n",
      "[20, 30, 40]\n",
      "[20, 30, 40, 50]\n",
      "[20, 30, 40, 50, [60, 70]]\n",
      "[20, 30, 40, 50, [60, 70], 80, 90]\n",
      "[20, 30, 50, [60, 70], 80, 90]\n"
     ]
    }
   ],
   "source": [
    "                        # Summary Week 6  \n",
    "\n",
    "                        #Dictory = {}\n",
    "\n",
    "#1)\n",
    "information = {\n",
    "    'name':'Sadique',\n",
    "    'father_name' : \"Abdullah\",\n",
    "    'age' : 15,\n",
    "    'gender' :\"M\",\n",
    "    'date_of_birth' : \"11 June 2022\"\n",
    "    }\n",
    "print(information)\n",
    "\n",
    "# finding through list index particlar variable \n",
    "print(\"Name =\",information['name'])\n",
    "print(\"age =\",information['age'])\n",
    "\n",
    "\n",
    "#--------------------OR ----------------------------\n",
    "my_infor= {}\n",
    "\n",
    "my_infor['first_name']= \"Sami\",\"Ali\"\n",
    "print(my_infor)\n",
    "\n",
    "\n",
    "\n",
    "\n",
    "\n",
    "\n",
    "#2)\n",
    "\n",
    "my_infor = {\n",
    "    \"Name\" : \"Abdul Sami \",\n",
    "    \"Caste\" : \"Wadho\",\n",
    "    \"Religion\" : \"Islam\",\n",
    "    \"Age\" : 90,\n",
    "    \"Gender\" : \"M\"\n",
    "}\n",
    "\n",
    "print(my_infor)\n",
    "#deletng record from my_infor\n",
    "del my_infor[\"Age\"]\n",
    "\n",
    "#insert new record\n",
    "my_infor[\"DOB\"] = [\"23/12/2001\"]\n",
    "print(my_infor)\n",
    "\n",
    "#loop \n",
    "for i in my_infor:\n",
    "    print(\"i\",my_infor)\n",
    "    \n",
    "#3)\n",
    "    \n",
    "my_infor = {\n",
    "    \"Name\" : \"Abdul Sami \",\n",
    "    \"Caste\" : \"Wadho\",\n",
    "    \"Religion\" : \"Islam\",\n",
    "    \"Age\" : 90,\n",
    "    \"Gender\" : \"M\"\n",
    "}\n",
    "#name ,caste , regligion ,age  these are key ,\n",
    "#abdul Sami Wadho ,Islam , M    thes are values\n",
    "\n",
    "#deletng record from my_infor\n",
    "del my_infor[\"Age\"]\n",
    "\n",
    "#insert new record\n",
    "my_infor[\"DOB\"] = [\"3/2/1\"]\n",
    "\n",
    "\n",
    "#for finding keys values\n",
    "for i in my_infor.keys():\n",
    "    print(my_infor) \n",
    "\n",
    "\n",
    "\n",
    "\n",
    "#4)\n",
    "my_infor = {\n",
    "    \"Name\" : \"Abdul Sami \",\n",
    "    \"Caste\" : \"Wadho\",\n",
    "    \"Religion\" : \"Islam\",\n",
    "    \"Age\" : 90,\n",
    "    \"Gender\" : \"M\"\n",
    "}\n",
    "#name ,caste , regligion ,age  these are key ,\n",
    "#abdul Sami Wadho ,Islam , M    thes are values\n",
    "\n",
    "#deletng record from my_infor\n",
    "del my_infor[\"Age\"]\n",
    "\n",
    "#insert new record\n",
    "my_infor[\"DOB\"] = [\"3/2/1\"]\n",
    "\n",
    "\n",
    "#for finding  values\n",
    "for i in my_infor.values():\n",
    "    print(my_infor) \n",
    "\n",
    "\n",
    "#5)\n",
    "my_infor = {\n",
    "    \"Name\" : \"Abdul Sami \",\n",
    "    \"Caste\" : \"Wadho\",\n",
    "    \"Religion\" : \"Islam\",\n",
    "    \"Age\" : 90,\n",
    "    \"Gender\" : \"M\"\n",
    "}\n",
    "\n",
    "\n",
    "#deletng record from my_infor\n",
    "del my_infor[\"Age\"]\n",
    "\n",
    "#insert new record\n",
    "my_infor[\"DOB\"] = [\"3/2/1\"]\n",
    "\n",
    "#name ,caste , regligion ,age  these are key ,\n",
    "#abdul Sami Wadho ,Islam , M    thes are values return list\n",
    "print(my_infor.values())\n",
    "print(my_infor.keys()) \n",
    "    \n",
    "#for finding keys and values boths we use .items\n",
    "#tupple = (litte,34)\n",
    "for key,value in my_infor.items():\n",
    "    print(my_infor) \n",
    "    print(key,value) \n",
    "\n",
    "    \n",
    "    #formationg string very important search it\n",
    "#6)\n",
    "\n",
    "\n",
    "temp = [20,30,40]\n",
    "print(temp)\n",
    "\n",
    "temp.append(50)\n",
    "print(temp)\n",
    "\n",
    "temp.append([60,70])\n",
    "print(temp)\n",
    "\n",
    "temp.extend([80,90])\n",
    "print(temp)\n",
    "\n",
    "del temp[2]\n",
    "print(temp)"
   ]
  },
  {
   "cell_type": "code",
   "execution_count": 34,
   "id": "7999137b",
   "metadata": {},
   "outputs": [
    {
     "name": "stdout",
     "output_type": "stream",
     "text": [
      "my_info {'name': 'Samiwadho', 'f/name': 'Abdullah', 'age': 34}\n",
      "\n",
      "age =  34\n"
     ]
    }
   ],
   "source": [
    "            #dictory\n",
    "my_info ={\n",
    "    \"name\" : \"Samiwadho\",\n",
    "    \"f/name\": \"Abdullah\",\n",
    "    \"age\"   : 34\n",
    "}\n",
    "print(\"my_info\",my_info)\n",
    "print(\"\\nage = \",my_info[\"age\"])\n",
    "\n",
    "\n",
    "\n",
    "Father_names = [\"Hussain\",\"Ali\",\"Kareem\",\"Ahmed\",\"Ali\",\"Sami\",\"Ahsan\",\"Abbas\"]"
   ]
  },
  {
   "cell_type": "code",
   "execution_count": 16,
   "id": "9a6bd091",
   "metadata": {},
   "outputs": [
    {
     "name": "stdout",
     "output_type": "stream",
     "text": [
      "my_info = {'name': 'Mansoor'}\n",
      "my_info = {'name': 'Mansoor', 'Nationalty': 'Pakistan'}\n",
      "my_info = {'name': 'Mansoor', 'Nationalty': 'Pakistan', 0: 'Hello World'}\n",
      "my_info = {'name': 'Mansoor', 'Nationalty': 'Pakistan', 0: 'Hello World', '0': 'Hello World news'}\n"
     ]
    }
   ],
   "source": [
    "#how we add data in dictory\n",
    "# in tuple we can't add and update the data but in LIST AND IN Dicontry \n",
    "my_info= {}\n",
    "my_info[\"name\"] = \"Mansoor\"\n",
    "print(\"my_info =\", my_info)\n",
    "\n",
    "# Again we add new columns\n",
    "\n",
    "my_info[\"Nationalty\"] = \"Pakistan\"\n",
    "print(\"my_info =\", my_info)\n",
    "\n",
    "\n",
    "#now we want to add new data on key postion wasa in other part of python we say index\n",
    "my_info[0] = \"Hello World\"\n",
    "# this is intger  [0]\n",
    "print(\"my_info =\", my_info)\n",
    "\n",
    "my_info[\"0\"] = \"Hello World news\"\n",
    "# this is string [\"0\"]\n",
    "print(\"my_info =\", my_info)\n"
   ]
  },
  {
   "cell_type": "code",
   "execution_count": 12,
   "id": "f448d501",
   "metadata": {},
   "outputs": [
    {
     "name": "stdout",
     "output_type": "stream",
     "text": [
      "my_info {'name': 'Samiwadho', 'f/name': 'Abdullah', 'age': 34}\n",
      "\n",
      "age =  34\n",
      "my_info = {'name': 'Samiwadho', 'f/name': 'Abdullah', 'age': 34, 'Nationalty': 'Pakistan'}\n",
      "my_info = {'name': 'Mansoor', 'f/name': 'Abdullah', 'age': 34, 'Nationalty': 'Pakistan'}\n"
     ]
    }
   ],
   "source": [
    "# update\n",
    "my_info ={\n",
    "    \"name\" : \"Samiwadho\",\n",
    "    \"f/name\": \"Abdullah\",\n",
    "    \"age\"   : 34\n",
    "}\n",
    "print(\"my_info\",my_info)\n",
    "print(\"\\nage = \",my_info[\"age\"])\n",
    "\n",
    "\n",
    "# if we had want to update the data simple we write code like this \n",
    "my_info[\"name\"] = \"Mansoor\"\n",
    "print(\"my_info =\", my_info)\n"
   ]
  },
  {
   "cell_type": "code",
   "execution_count": 18,
   "id": "f874da5e",
   "metadata": {},
   "outputs": [
    {
     "name": "stdout",
     "output_type": "stream",
     "text": [
      "my_info = {'name': 'Mansoor', 'Nationalty': 'Pakistan', '0': 'Hello World news'}\n"
     ]
    }
   ],
   "source": [
    "#delete keyword \n",
    "\n",
    "del my_info[0]\n",
    "print(\"my_info =\", my_info)\n",
    "\n",
    "#here \n"
   ]
  },
  {
   "cell_type": "code",
   "execution_count": 27,
   "id": "62d5fd8e",
   "metadata": {},
   "outputs": [
    {
     "name": "stdout",
     "output_type": "stream",
     "text": [
      "i = name\n",
      "my_info = Mansoor\n",
      "i = Nationalty\n",
      "my_info = Pakistan\n",
      "i = 0\n",
      "my_info = Hello World news\n"
     ]
    }
   ],
   "source": [
    "#loop in dictory\n",
    "\n",
    "for i  in my_info:\n",
    "    # want to find out column \n",
    "    print(\"i =\",i )\n",
    "    # want to find out keys\n",
    "    print(\"my_info =\",my_info[i])\n",
    "    \n",
    "     \n",
    "   "
   ]
  },
  {
   "cell_type": "code",
   "execution_count": 33,
   "id": "e617d32c",
   "metadata": {},
   "outputs": [
    {
     "name": "stdout",
     "output_type": "stream",
     "text": [
      "i = name\n",
      "my_info = Mansoor\n",
      "i = Nationalty\n",
      "my_info = Pakistan\n",
      "i = 0\n",
      "my_info = Hello World news\n"
     ]
    }
   ],
   "source": [
    "## method .key = it return keys like we recall above code print(\"my_info =\",my_info[i]) but here we use method\n",
    "for i  in my_info.keys():\n",
    "        print(\"i =\",i )\n",
    "        \n",
    "        print(\"my_info =\",my_info[i])\n",
    "\n",
    "   \n",
    "    "
   ]
  }
 ],
 "metadata": {
  "kernelspec": {
   "display_name": "Python 3 (ipykernel)",
   "language": "python",
   "name": "python3"
  },
  "language_info": {
   "codemirror_mode": {
    "name": "ipython",
    "version": 3
   },
   "file_extension": ".py",
   "mimetype": "text/x-python",
   "name": "python",
   "nbconvert_exporter": "python",
   "pygments_lexer": "ipython3",
   "version": "3.11.3"
  }
 },
 "nbformat": 4,
 "nbformat_minor": 5
}
