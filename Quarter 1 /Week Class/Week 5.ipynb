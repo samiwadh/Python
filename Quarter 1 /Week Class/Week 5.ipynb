{
 "cells": [
  {
   "cell_type": "code",
   "execution_count": 39,
   "id": "2e5750ef",
   "metadata": {},
   "outputs": [
    {
     "name": "stdout",
     "output_type": "stream",
     "text": [
      "('Islamabad ', 'Capital of Pakistan', 'Karachi', 'Ciy of Light')\n"
     ]
    },
    {
     "ename": "TypeError",
     "evalue": "'tuple' object does not support item assignment",
     "output_type": "error",
     "traceback": [
      "\u001b[0;31m---------------------------------------------------------------------------\u001b[0m",
      "\u001b[0;31mTypeError\u001b[0m                                 Traceback (most recent call last)",
      "Cell \u001b[0;32mIn[39], line 10\u001b[0m\n\u001b[1;32m      7\u001b[0m city \u001b[38;5;241m=\u001b[39m (\u001b[38;5;124m'\u001b[39m\u001b[38;5;124mIslamabad \u001b[39m\u001b[38;5;124m'\u001b[39m,\u001b[38;5;124m'\u001b[39m\u001b[38;5;124mCapital of Pakistan\u001b[39m\u001b[38;5;124m'\u001b[39m,\u001b[38;5;124m'\u001b[39m\u001b[38;5;124mKarachi\u001b[39m\u001b[38;5;124m'\u001b[39m,\u001b[38;5;124m'\u001b[39m\u001b[38;5;124mCiy of Light\u001b[39m\u001b[38;5;124m'\u001b[39m)\n\u001b[1;32m      8\u001b[0m \u001b[38;5;28mprint\u001b[39m(city) \n\u001b[0;32m---> 10\u001b[0m city[\u001b[38;5;241m0\u001b[39m] \u001b[38;5;241m=\u001b[39m \u001b[38;5;124m'\u001b[39m\u001b[38;5;124mlahore\u001b[39m\u001b[38;5;124m'\u001b[39m\n\u001b[1;32m     11\u001b[0m \u001b[38;5;28mprint\u001b[39m(city)\n",
      "\u001b[0;31mTypeError\u001b[0m: 'tuple' object does not support item assignment"
     ]
    }
   ],
   "source": [
    "                        # WEEK 5\n",
    "#                  Tuples                 \n",
    "# we can't directy list in string , we can do list of string \n",
    "\n",
    "# in tuple one we declare then we can't add new data like we did in list watch the error \n",
    "\n",
    "city = ('Islamabad ','Capital of Pakistan','Karachi','Ciy of Light')\n",
    "print(city) \n",
    "\n",
    "city[0] = 'lahore'\n",
    "print(city)"
   ]
  },
  {
   "cell_type": "code",
   "execution_count": 17,
   "id": "e2ee2dfa",
   "metadata": {},
   "outputs": [
    {
     "name": "stdout",
     "output_type": "stream",
     "text": [
      "cities_pk = karachi\n",
      "cities_pk = larkana\n",
      "cities_pk = Kamber\n",
      "\n",
      "cities_pk = karachi\n",
      "\n",
      "cities_pk = larkana\n",
      "\n",
      "cities_pk = Kamber\n",
      "\n",
      "cities_pk = Lahore\n"
     ]
    }
   ],
   "source": [
    "                        # for loop \n",
    "# if we want to print same word multiple time then we use for loop\n",
    "\n",
    "# this is List \n",
    "cities = ['karachi','larkana','Kamber']\n",
    "\n",
    "# we use for loop for print \n",
    "for a in  cities:\n",
    "    print(\"cities_pk =\" ,a)\n",
    "\n",
    "#cities_tuples\n",
    "cities_tup = ('karachi','larkana','Kamber',\"Lahore\")\n",
    "\n",
    "for a in  cities_tup:\n",
    "    print(\"\\ncities_pk =\" ,a)\n",
    "\n",
    "    \n"
   ]
  },
  {
   "cell_type": "code",
   "execution_count": 18,
   "id": "7881152a",
   "metadata": {},
   "outputs": [
    {
     "name": "stdout",
     "output_type": "stream",
     "text": [
      "cities_pk = 1\n",
      "cities_pk = 2\n",
      "cities_pk = 3\n",
      "cities_pk = 4\n",
      "cities_pk = 5\n",
      "cities_pk = 6\n",
      "cities_pk = 7\n",
      "cities_pk = 8\n",
      "cities_pk = 9\n",
      "\\mcities_pk = 1\n",
      "\\mcities_pk = 3\n",
      "\\mcities_pk = 5\n",
      "\\mcities_pk = 7\n",
      "\\mcities_pk = 9\n",
      "\n",
      "cities_pk = 1\n",
      "\n",
      "cities_pk = 6\n"
     ]
    }
   ],
   "source": [
    "                    # using range\n",
    "\n",
    "# we use for loop in range to print number 1 to 9 \n",
    "for a in range (1,10):\n",
    "    print(\"cities_pk =\" ,a)\n",
    "    \n",
    "# we use for loop in range to that print alternative like 1,3,5,7,9 \n",
    "for a in range (1,10,2):\n",
    "    print(\"\\mcities_pk =\" ,a)\n",
    "\n",
    "# we use want that number which print every 5 number so here we have 1  6 after 6 we \n",
    "# can't get the number beacuse we assign the value (1,10)\n",
    "for a in range (1,10,5):\n",
    "    print(\"\\ncities_pk =\" ,a)"
   ]
  },
  {
   "cell_type": "code",
   "execution_count": 24,
   "id": "47647ae4",
   "metadata": {},
   "outputs": [
    {
     "name": "stdout",
     "output_type": "stream",
     "text": [
      "cities_pk = Islamabad\n",
      "cities_pk = karachi\n",
      "cities_pk = larkana\n",
      "cities_pk = Kamber\n"
     ]
    }
   ],
   "source": [
    "cities = ['Islamabad','karachi','larkana','Kamber'] # list\n",
    "cities_tup = ('karachi','larkana','Kamber',\"Lahore\") # tuple\n",
    "\n",
    "# we range \n",
    "for a in range(4) :\n",
    "                #OR \n",
    "#for a in range(len(cities)):\n",
    "# it print number of cities through it lenght\n",
    "    print(\"cities_pk =\" ,cities[a])\n",
    "\n"
   ]
  },
  {
   "cell_type": "code",
   "execution_count": 47,
   "id": "4b115fc4",
   "metadata": {},
   "outputs": [
    {
     "name": "stdout",
     "output_type": "stream",
     "text": [
      "not found\n",
      "cities_pk Found = Karachi\n",
      "not found\n",
      "not found\n",
      "not found in lower case\n",
      "cities_pk Found| = Karachi\n",
      "not found in lower case\n",
      "not found in lower case\n",
      "not found in UPPER case\n",
      "cities_pk Found = Karachi\n",
      "not found in UPPER case\n",
      "not found in UPPER case\n",
      "not found in TITLE case\n",
      "cities_pk Found = Karachi\n",
      "not found in TITLE case\n",
      "not found in TITLE case\n"
     ]
    }
   ],
   "source": [
    "                    # if else and for loop\n",
    "    \n",
    "    \n",
    "cities = ['Islamabad','Karachi','larkana','Kamber'] # list\n",
    "cities_tup = ('Karachi','larkana','Kamber',\"Lahore\") # tuple\n",
    "city_of_light = \"Karachi\"\n",
    "# we range \n",
    "for a in range(4) :\n",
    "    if city_of_light == cities[a]:\n",
    "        print(\"cities_pk Found =\" ,cities[a])\n",
    "    else:\n",
    "        print(\"not found\")\n",
    "\n",
    "        # case senstive matther we can solve this problem by .lower(), .upper() , .title(). like below example\n",
    "        # city_of_light = \"KArachi\" here KArachi is not in (list)cities or in(tuple)cities_tup therefore it \n",
    "        #it give you error that why use of .lower(), .upper() , .title() to ignore the senstivtive case. \n",
    "        \n",
    "                         #  IN .lower()\n",
    "city_of_light = \"KArachi\"\n",
    "# we range \n",
    "for a in range(4) :\n",
    "    if city_of_light.lower() == cities[a].lower():\n",
    "        print(\"cities_pk Found| =\" ,cities[a])\n",
    "    else:\n",
    "        print(\"not found in lower case\")\n",
    "    \n",
    "                         #  IN .UPPER()\n",
    "city_of_light = \"KArachi\"\n",
    "# we range \n",
    "for a in range(4) :\n",
    "    if city_of_light.lower() == cities[a].lower():\n",
    "        print(\"cities_pk Found =\" ,cities[a])\n",
    "    else:\n",
    "        print(\"not found in UPPER case\")\n",
    "        \n",
    "                                 #  IN .TITLE()\n",
    "city_of_light = \"KARachi\"\n",
    "# we range \n",
    "for a in range(4) :\n",
    "    if city_of_light.lower() == cities[a].lower():\n",
    "        print(\"cities_pk Found =\" ,cities[a])\n",
    "    else:\n",
    "        print(\"not found in TITLE case\")\n",
    "\n"
   ]
  },
  {
   "cell_type": "code",
   "execution_count": 45,
   "id": "b4089421",
   "metadata": {},
   "outputs": [
    {
     "name": "stdout",
     "output_type": "stream",
     "text": [
      "not found\n",
      "cities_pk Found = Karachi\n"
     ]
    }
   ],
   "source": [
    "                    # break: keyword it is statement\n",
    "    #break : if we find the require answer then it break that loop where it found\n",
    "    \n",
    "cities = ['Islamabad','Karachi','larkana','Kamber'] # list\n",
    "cities_tup = ('Karachi','larkana','Kamber',\"Lahore\") # tuple\n",
    "city_of_light = \"Karachi\"\n",
    "# we range \n",
    "for a in range(4) :\n",
    "    if city_of_light == cities[a]:\n",
    "        print(\"cities_pk Found =\" ,cities[a])\n",
    "        break\n",
    "    else:\n",
    "        print(\"not found\")"
   ]
  },
  {
   "cell_type": "code",
   "execution_count": 46,
   "id": "05e1750f",
   "metadata": {},
   "outputs": [
    {
     "name": "stdout",
     "output_type": "stream",
     "text": [
      "not found\n",
      "cities_pk Found = Karachi\n",
      "not found\n",
      "not found\n"
     ]
    }
   ],
   "source": [
    "                    # Continue: keyword it is statement\n",
    "    #Continue: if we find the require answer after that run Continue it does't matter we found the data or not \n",
    "    # it runs\n",
    "    \n",
    "cities = ['Islamabad','Karachi','larkana','Kamber'] # list\n",
    "cities_tup = ('Karachi','larkana','Kamber',\"Lahore\") # tuple\n",
    "city_of_light = \"Karachi\"\n",
    "# we range \n",
    "for a in range(4) :\n",
    "    if city_of_light == cities[a]:\n",
    "        print(\"cities_pk Found =\" ,cities[a])\n",
    "        continue\n",
    "    else:\n",
    "        print(\"not found\")"
   ]
  },
  {
   "cell_type": "code",
   "execution_count": 55,
   "id": "12ff25a1",
   "metadata": {},
   "outputs": [
    {
     "name": "stdout",
     "output_type": "stream",
     "text": [
      "First_name ['BlueRay ', 'Upchuck ', 'Lojack ', 'Gizmo ', 'Do-Rag ']\n",
      "First_name ['Zzz', 'Burp', 'Dogbone', 'Droop']\n",
      "First_names ['BlueRay ', 'Upchuck ', 'Lojack ', 'Gizmo ', 'Do-Rag ']\n",
      "First_names ['BlueRay ', 'Upchuck ', 'Lojack ', 'Gizmo ', 'Do-Rag ']\n",
      "First_names ['BlueRay ', 'Upchuck ', 'Lojack ', 'Gizmo ', 'Do-Rag ']\n",
      "First_names ['BlueRay ', 'Upchuck ', 'Lojack ', 'Gizmo ', 'Do-Rag ']\n",
      "First_names ['BlueRay ', 'Upchuck ', 'Lojack ', 'Gizmo ', 'Do-Rag ']\n",
      "last_name = ['Zzz', 'Burp', 'Dogbone', 'Droop']\n",
      "last_name = ['Zzz', 'Burp', 'Dogbone', 'Droop']\n",
      "last_name = ['Zzz', 'Burp', 'Dogbone', 'Droop']\n",
      "last_name = ['Zzz', 'Burp', 'Dogbone', 'Droop']\n"
     ]
    }
   ],
   "source": [
    "                    #Nest list\n",
    "\n",
    "first_names = [\"BlueRay \", \"Upchuck \", \"Lojack \",\"Gizmo \", \"Do-Rag \"]\n",
    "last_names = [\"Zzz\", \"Burp\", \"Dogbone\", \"Droop\"]\n",
    "full_names = []\n",
    "\n",
    "print('First_name',first_names)\n",
    "print('First_name',last_names)\n",
    "            # merge to first_name to last name\n",
    "for first_name in first_names:\n",
    "    print('First_names',first_names)\n",
    "\n",
    "for last_name in last_names:\n",
    "    print('last_name =',last_names)"
   ]
  },
  {
   "cell_type": "code",
   "execution_count": 60,
   "id": "cbaa80d8",
   "metadata": {},
   "outputs": [
    {
     "name": "stdout",
     "output_type": "stream",
     "text": [
      "First_name ['BlueRay ', 'Upchuck ', 'Lojack ', 'Gizmo ', 'Do-Rag ']\n",
      "Last_name ['Zzz', 'Burp', 'Dogbone', 'Droop']\n",
      "\n",
      "First_names ['BlueRay ', 'Upchuck ', 'Lojack ', 'Gizmo ', 'Do-Rag ']\n",
      "last_name = ['Zzz', 'Burp', 'Dogbone', 'Droop']\n",
      "last_name = ['Zzz', 'Burp', 'Dogbone', 'Droop']\n",
      "last_name = ['Zzz', 'Burp', 'Dogbone', 'Droop']\n",
      "last_name = ['Zzz', 'Burp', 'Dogbone', 'Droop']\n",
      "\n",
      "First_names ['BlueRay ', 'Upchuck ', 'Lojack ', 'Gizmo ', 'Do-Rag ']\n",
      "last_name = ['Zzz', 'Burp', 'Dogbone', 'Droop']\n",
      "last_name = ['Zzz', 'Burp', 'Dogbone', 'Droop']\n",
      "last_name = ['Zzz', 'Burp', 'Dogbone', 'Droop']\n",
      "last_name = ['Zzz', 'Burp', 'Dogbone', 'Droop']\n",
      "\n",
      "First_names ['BlueRay ', 'Upchuck ', 'Lojack ', 'Gizmo ', 'Do-Rag ']\n",
      "last_name = ['Zzz', 'Burp', 'Dogbone', 'Droop']\n",
      "last_name = ['Zzz', 'Burp', 'Dogbone', 'Droop']\n",
      "last_name = ['Zzz', 'Burp', 'Dogbone', 'Droop']\n",
      "last_name = ['Zzz', 'Burp', 'Dogbone', 'Droop']\n",
      "\n",
      "First_names ['BlueRay ', 'Upchuck ', 'Lojack ', 'Gizmo ', 'Do-Rag ']\n",
      "last_name = ['Zzz', 'Burp', 'Dogbone', 'Droop']\n",
      "last_name = ['Zzz', 'Burp', 'Dogbone', 'Droop']\n",
      "last_name = ['Zzz', 'Burp', 'Dogbone', 'Droop']\n",
      "last_name = ['Zzz', 'Burp', 'Dogbone', 'Droop']\n",
      "\n",
      "First_names ['BlueRay ', 'Upchuck ', 'Lojack ', 'Gizmo ', 'Do-Rag ']\n",
      "last_name = ['Zzz', 'Burp', 'Dogbone', 'Droop']\n",
      "last_name = ['Zzz', 'Burp', 'Dogbone', 'Droop']\n",
      "last_name = ['Zzz', 'Burp', 'Dogbone', 'Droop']\n",
      "last_name = ['Zzz', 'Burp', 'Dogbone', 'Droop']\n"
     ]
    }
   ],
   "source": [
    "                    #Nest list\n",
    "\n",
    "first_names = [\"BlueRay \", \"Upchuck \", \"Lojack \",\"Gizmo \", \"Do-Rag \"]\n",
    "last_names = [\"Zzz\", \"Burp\", \"Dogbone\", \"Droop\"]\n",
    "full_names = []\n",
    "\n",
    "print('First_name',first_names)\n",
    "print('Last_name',last_names)\n",
    "            # nest for loop to first_name and last name it print first_name then last_name till the compl\n",
    "for first_name in first_names:\n",
    "    print('\\nFirst_names',first_names)\n",
    "    for last_name in last_names:\n",
    "        print('last_name =',last_names)"
   ]
  },
  {
   "cell_type": "code",
   "execution_count": 67,
   "id": "84d22e8e",
   "metadata": {},
   "outputs": [
    {
     "name": "stdout",
     "output_type": "stream",
     "text": [
      "full_names <class 'list'>\n",
      "First_name ['BlueRay ', 'Upchuck ', 'Lojack ', 'Gizmo ', 'Do-Rag ']\n",
      "Lirst_name ['Zzz', 'Burp', 'Dogbone', 'Droop']\n",
      "full_names ['BlueRay Zzz', 'BlueRay Burp', 'BlueRay Dogbone', 'BlueRay Droop', 'Upchuck Zzz', 'Upchuck Burp', 'Upchuck Dogbone', 'Upchuck Droop', 'Lojack Zzz', 'Lojack Burp', 'Lojack Dogbone', 'Lojack Droop', 'Gizmo Zzz', 'Gizmo Burp', 'Gizmo Dogbone', 'Gizmo Droop', 'Do-Rag Zzz', 'Do-Rag Burp', 'Do-Rag Dogbone', 'Do-Rag Droop']\n"
     ]
    }
   ],
   "source": [
    "                        #Merge the last_name and first_name each \n",
    "\n",
    "first_names = [\"BlueRay \", \"Upchuck \", \"Lojack \",\"Gizmo \", \"Do-Rag \"]\n",
    "last_names = [\"Zzz\", \"Burp\", \"Dogbone\", \"Droop\"]\n",
    "full_names = []\n",
    "\n",
    "## if want to find which class we using then we simply using type\n",
    "print('full_names',type(full_names))\n",
    "\n",
    "print('First_name',first_names)\n",
    "print('Lirst_name',last_names)\n",
    "            \n",
    "    # IN this case BlueRay internal loop FOUR TIME and External loop run one time like BlueRay has four \n",
    "    # last_name as shown in the full_name . In this case we write a second code which run internal loop one time \n",
    "    #to one first_name . below code is run this\n",
    "for first_name in first_names:\n",
    "    for last_name in last_names:\n",
    "        full_names.append(first_name+last_name)\n",
    "print('full_names',full_names)"
   ]
  },
  {
   "cell_type": "code",
   "execution_count": 11,
   "id": "02f41c0a",
   "metadata": {},
   "outputs": [
    {
     "name": "stdout",
     "output_type": "stream",
     "text": [
      "full_names <class 'list'>\n",
      "i BlueRay \n",
      "Last Zzz\n",
      "i Upchuck \n",
      "Last Burp\n",
      "i Lojack \n",
      "Last Dogbone\n",
      "i Gizmo \n",
      "Last Droop\n",
      "['BlueRay Zzz', 'Upchuck Burp', 'Lojack Dogbone', 'Gizmo Droop']\n"
     ]
    }
   ],
   "source": [
    "                        #Merge the last_name and first_name each \n",
    "\n",
    "first_names = [\"BlueRay \", \"Upchuck \", \"Lojack \",\"Gizmo \"]\n",
    "last_names = [\"Zzz\", \"Burp\", \"Dogbone\", \"Droop\"]\n",
    "full_names = []\n",
    "\n",
    "## if want to find which class we using then we simply using type\n",
    "print('full_names',type(full_names))\n",
    "\n",
    "        # now we mapping or merge one last_name and one first_name  we use # range funtion\n",
    "    \n",
    "                    # NOTE\n",
    "        # In range if we want to print two list or two factor then the value of two list must be equal like \n",
    "        # list one has 3 value then list two must have 3 value if not . then there will be error accour\n",
    "        # In this question we have more then four value in first_name but in last_name we have one therefore either \n",
    "        # we delete the value which is above then the last_name value or we add new value to last_name\n",
    "for i in range (len(first_names)):\n",
    "    print('i',first_names[i])\n",
    "    print('Last',last_names[i])\n",
    "    # we we mapping the both \n",
    "    full_names.append(first_names[i]+last_names[i])\n",
    "print(full_names)\n",
    "    \n",
    "    \n",
    "    "
   ]
  },
  {
   "cell_type": "code",
   "execution_count": 17,
   "id": "fa2162c8",
   "metadata": {},
   "outputs": [
    {
     "name": "stdout",
     "output_type": "stream",
     "text": [
      "2 x  0  = 0\n",
      "2 x  1  = 2\n",
      "2 x  2  = 4\n",
      "2 x  3  = 6\n",
      "2 x  4  = 8\n",
      "2 x  5  = 10\n",
      "2 x  6  = 12\n",
      "2 x  7  = 14\n",
      "2 x  8  = 16\n",
      "2 x  9  = 18\n",
      "2 x  10  = 20\n"
     ]
    }
   ],
   "source": [
    "                            # Table  example of loop of range\n",
    "    \n",
    "for i in range (0,11):\n",
    "    print(\"2 x \",i,\" =\" , i*2)"
   ]
  },
  {
   "cell_type": "code",
   "execution_count": 20,
   "id": "ebe0674a",
   "metadata": {},
   "outputs": [
    {
     "name": "stdout",
     "output_type": "stream",
     "text": [
      "2 x0 = 0\n",
      "2 x1 = 2\n",
      "2 x2 = 4\n",
      "2 x3 = 6\n",
      "2 x4 = 8\n",
      "2 x5 = 10\n",
      "2 x6 = 12\n",
      "2 x7 = 14\n",
      "2 x8 = 16\n",
      "2 x9 = 18\n",
      "2 x10 = 20\n"
     ]
    }
   ],
   "source": [
    "                # table in f =format stirng\n",
    "    \n",
    "for i in range (0,11):\n",
    "    print(f\"2 x{i} = {i*2}\")"
   ]
  },
  {
   "cell_type": "code",
   "execution_count": 21,
   "id": "b93b35e6",
   "metadata": {},
   "outputs": [
    {
     "name": "stdout",
     "output_type": "stream",
     "text": [
      "54\n"
     ]
    }
   ],
   "source": [
    "                        # our first libery random \n",
    "\n",
    "import random\n",
    "print(random.randint(10,90))\n",
    "# randint generate random number"
   ]
  },
  {
   "cell_type": "code",
   "execution_count": 38,
   "id": "cd61d4c4",
   "metadata": {},
   "outputs": [
    {
     "name": "stdout",
     "output_type": "stream",
     "text": [
      "[361, 30, 652, 698, 285]\n"
     ]
    }
   ],
   "source": [
    "# how to add random number in list \n",
    "\n",
    "import random \n",
    "lists = []\n",
    "lists.append(random.randint(0,800))\n",
    "lists.append(random.randint(0,800))\n",
    "lists.append(random.randint(0,800))\n",
    "lists.append(random.randint(0,800))\n",
    "lists.append(random.randint(0,800))\n",
    "\n",
    "\n",
    "print(lists)"
   ]
  },
  {
   "cell_type": "code",
   "execution_count": 31,
   "id": "ede4b4d8",
   "metadata": {},
   "outputs": [
    {
     "name": "stdout",
     "output_type": "stream",
     "text": [
      "cities_pk = karachi\n",
      "cities_pk = larkana\n",
      "cities_pk = Kamber\n"
     ]
    }
   ],
   "source": [
    "# how to add random number in list \n"
   ]
  },
  {
   "cell_type": "code",
   "execution_count": null,
   "id": "fff0bafe",
   "metadata": {},
   "outputs": [],
   "source": []
  }
 ],
 "metadata": {
  "kernelspec": {
   "display_name": "Python 3 (ipykernel)",
   "language": "python",
   "name": "python3"
  },
  "language_info": {
   "codemirror_mode": {
    "name": "ipython",
    "version": 3
   },
   "file_extension": ".py",
   "mimetype": "text/x-python",
   "name": "python",
   "nbconvert_exporter": "python",
   "pygments_lexer": "ipython3",
   "version": "3.11.3"
  }
 },
 "nbformat": 4,
 "nbformat_minor": 5
}
