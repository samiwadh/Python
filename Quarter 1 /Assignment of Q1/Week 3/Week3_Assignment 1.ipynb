{
 "cells": [
  {
   "cell_type": "code",
   "execution_count": 7,
   "id": "0a64b69f",
   "metadata": {},
   "outputs": [
    {
     "name": "stdout",
     "output_type": "stream",
     "text": [
      "Enter a number: 2\n",
      "the number is Even \n"
     ]
    }
   ],
   "source": [
    "                                # Assignment 1 week 3\n",
    "# This program takes a number as input from the user and tells if it is Even or Odd\n",
    "\n",
    "# Take the Input from the user, generally we would have some sort of input validation here\n",
    "number = int(input(\"Enter a number: \"))\n",
    "\n",
    "# Calculate the Mod to determine if it is EVEN or ODD\n",
    "result = number % 2\n",
    "\n",
    "# Check if it is even or odd (EVEN = 0, ODD = 1)\n",
    "if result == 0 :\n",
    "    print(\"the number is Even \")\n",
    "else :\n",
    "    print(\"the number is odd \")"
   ]
  }
 ],
 "metadata": {
  "kernelspec": {
   "display_name": "Python 3 (ipykernel)",
   "language": "python",
   "name": "python3"
  },
  "language_info": {
   "codemirror_mode": {
    "name": "ipython",
    "version": 3
   },
   "file_extension": ".py",
   "mimetype": "text/x-python",
   "name": "python",
   "nbconvert_exporter": "python",
   "pygments_lexer": "ipython3",
   "version": "3.11.3"
  }
 },
 "nbformat": 4,
 "nbformat_minor": 5
}
