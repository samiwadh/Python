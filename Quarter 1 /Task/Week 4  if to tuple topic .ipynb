{
 "cells": [
  {
   "cell_type": "code",
   "execution_count": 2,
   "id": "02620321",
   "metadata": {},
   "outputs": [
    {
     "name": "stdout",
     "output_type": "stream",
     "text": [
      "Enter the subject Mark 1 =80\n",
      "Enter the subject Mark 2 =80\n",
      "Enter the subject Mark 3 =809\n",
      "Enter the subject Mark 4 =90\n",
      "Enter the subject Mark 5 =90\n",
      "Total_Marks =  1149\n",
      "You got A1\n"
     ]
    }
   ],
   "source": [
    "                        #if_elif Topic Chapter 11\n",
    "subject_1 = int(input('Enter the subject Mark 1 ='))\n",
    "subject_2 = int(input('Enter the subject Mark 2 ='))\n",
    "subject_3 = int(input('Enter the subject Mark 3 ='))\n",
    "subject_4 = int(input('Enter the subject Mark 4 ='))\n",
    "subject_5 = int(input('Enter the subject Mark 5 ='))\n",
    "Total_Marks = subject_1 + subject_2 + subject_3 + subject_4 + subject_5\n",
    "percentage  = Total_Marks / 500 * 100\n",
    "print('Total_Marks = ', Total_Marks)\n",
    "\n",
    "if percentage > 90:\n",
    "    print('You got A1')\n",
    "elif percentage > 80 :\n",
    "    print('You got A')\n",
    "elif percentage > 70 :\n",
    "    print('You got B')\n",
    "elif percentage > 60 :\n",
    "    print('You got C')\n",
    "else :  \n",
    "    print('attempt again ')\n"
   ]
  },
  {
   "cell_type": "code",
   "execution_count": 3,
   "id": "44263fb0",
   "metadata": {},
   "outputs": [
    {
     "name": "stdout",
     "output_type": "stream",
     "text": [
      "Enter x :  3\n",
      "Enter y :  4\n",
      "Enter a :  5\n",
      "Enter b :  6\n",
      "Enter c :  4\n",
      "Enter d :  54\n",
      "Enter f :  3\n",
      "Enter h :  3\n"
     ]
    }
   ],
   "source": [
    "                        # NEST_IF TOPIC CHAPTER 12\n",
    "x = input('Enter x :  ')\n",
    "y = input('Enter y :  ')\n",
    "\n",
    "a = input('Enter a :  ')\n",
    "b = input('Enter b :  ')\n",
    "c = input('Enter c :  ')\n",
    "d = input('Enter d :  ')\n",
    "f = input('Enter f :  ')\n",
    "h = input('Enter h :  ')\n",
    "\n",
    "\n",
    "if c == d :\n",
    "    if x == y or a == b:\n",
    "        g = h \n",
    "        print( ' Inside c == d and ( x== y or a== b )')\n",
    "    else :\n",
    "        e = f \n",
    "        print( ' Inside c == d but not ( x== y or a== b )')\n",
    "else : \n",
    "    e = f\n",
    "    ( ' inside else')"
   ]
  },
  {
   "cell_type": "code",
   "execution_count": 50,
   "id": "2f76d592",
   "metadata": {},
   "outputs": [
    {
     "name": "stdout",
     "output_type": "stream",
     "text": [
      "Temperatures =  [32, 34, 45, 56, 23]\n",
      "Replaced number is =  [32, 34, 60, 56, 23]\n",
      "add the new temperature =  [32, 34, 60, 56, 23, -90]\n",
      "add the new temperature on the place of 1 = 34\n",
      "56\n",
      "-90\n",
      "60\n"
     ]
    }
   ],
   "source": [
    "                            # 15 list\n",
    "temp=[32,34,45,56,23]\n",
    "print('Temperatures = ', temp)\n",
    "\n",
    "# this Below program replace the temperture on place on 2 \n",
    "temp[2] = 60\n",
    "print('Replaced number is = ',temp)\n",
    "\n",
    "# this Below program add the new temperature \n",
    "temp.append( -90 )\n",
    "print('add the new temperature = ',temp)\n",
    "\n",
    "# this Below program. if we want a particuler temperature  \n",
    "temp\n",
    "print('add the new temperature on the place of 1 =',temp[1])\n",
    "print(temp[3])\n",
    "print(temp[5])\n",
    "\n",
    "# in python hertogenic data store  ,it mean we insert number or string in a single statement\n",
    "#example\n",
    "# temp_list =[10,\"pakistan,true\"]\n",
    "\n",
    "#we have to remember that we calcluate value by n-1 like we want to find 6 value to above we put 7 than we find 6\n",
    "print(temp[-4])\n",
    "#this is inverse section\n"
   ]
  },
  {
   "cell_type": "code",
   "execution_count": 48,
   "id": "622a1d03",
   "metadata": {},
   "outputs": [
    {
     "name": "stdout",
     "output_type": "stream",
     "text": [
      "[20, 23, 25, 26, 29, 30, 34, 30, 40, 38]\n"
     ]
    }
   ],
   "source": [
    "\n",
    "# we are create city temperature and then add two differnt city temp in one list\n",
    "karachi = [ 24,25,26,27,32]\n",
    "lahore = [ 34,35,36,37,38]\n",
    "temp_pk_city = karachi+lahore\n",
    "print('temp = ',temp_pk_city)\n",
    "\n",
    "\n"
   ]
  },
  {
   "cell_type": "code",
   "execution_count": 35,
   "id": "07bbcd26",
   "metadata": {},
   "outputs": [
    {
     "name": "stdout",
     "output_type": "stream",
     "text": [
      "[1, 2, 3, [11, 12, 13, 14, 15], 4, 5, 6]\n",
      "3\n",
      "13\n"
     ]
    }
   ],
   "source": [
    "# creating list in list\n",
    "temp = [1,2,3,[11,12,13,14,15],4,5,6]\n",
    "print (temp)\n",
    "\n",
    "#recalling list value\n",
    "print(temp[2])\n",
    "#recalling list and it sub list [3] is the first list index [2] is the sub list index\n",
    "print(temp[3][2])\n"
   ]
  },
  {
   "cell_type": "code",
   "execution_count": 36,
   "id": "1e43437c",
   "metadata": {},
   "outputs": [
    {
     "name": "stdout",
     "output_type": "stream",
     "text": [
      "[1, 2, 3, [11, 12, 13, 14, 15], 4, 5, 6, 7]\n"
     ]
    }
   ],
   "source": [
    "temp = [1,2,3,[11,12,13,14,15],4,5,6]\n",
    "#add new value this is point that we add 1 value or we add list , we can't add 2 value \n",
    "#like this temp.appand(7,8,9,10) this will show an error \n",
    "#therefore \n",
    "temp.append(7)\n",
    "print(temp)"
   ]
  },
  {
   "cell_type": "code",
   "execution_count": 37,
   "id": "38c19493",
   "metadata": {},
   "outputs": [
    {
     "name": "stdout",
     "output_type": "stream",
     "text": [
      "[1, 2, 3, [11, 12, 13, 14, 15], 4, 5, 6, 7, [22, 23, 24, 25]]\n"
     ]
    }
   ],
   "source": [
    "#we can add new list after use of []\n",
    "temp.append([22,23,24,25])\n",
    "print(temp)\n"
   ]
  },
  {
   "cell_type": "code",
   "execution_count": 38,
   "id": "8bb2c85d",
   "metadata": {},
   "outputs": [
    {
     "name": "stdout",
     "output_type": "stream",
     "text": [
      "[1, 2, 3, [11, 12, 13, 14, 15], 4, 5, 6, 7, [22, 23, 24, 25], 8, 9, 10, 11, 12]\n"
     ]
    }
   ],
   "source": [
    "#if we want to add value not adding list so use use .extend it insert the value which want put\n",
    "temp.extend([8,9,10,11,12])\n",
    "print(temp)\n",
    "\n",
    "\n"
   ]
  },
  {
   "cell_type": "code",
   "execution_count": 39,
   "id": "a3a4d85b",
   "metadata": {},
   "outputs": [
    {
     "name": "stdout",
     "output_type": "stream",
     "text": [
      "6\n"
     ]
    }
   ],
   "source": [
    "\n",
    "# for finding what is place of inex 3\n",
    "print(temp.index(6)) #which is on the place of 2\n"
   ]
  },
  {
   "cell_type": "code",
   "execution_count": 40,
   "id": "2779631a",
   "metadata": {},
   "outputs": [
    {
     "name": "stdout",
     "output_type": "stream",
     "text": [
      "None\n",
      "<built-in method pop of list object at 0x7f860bc21d80>\n"
     ]
    }
   ],
   "source": [
    "#for remove index we use\n",
    "\n",
    "print(temp.remove(9))\n",
    "\n",
    "#pop if you don't give index address then pop remove last index\n",
    "print(temp.pop)# which drop 9 \n",
    "\n"
   ]
  },
  {
   "cell_type": "code",
   "execution_count": 47,
   "id": "11262925",
   "metadata": {},
   "outputs": [
    {
     "name": "stdout",
     "output_type": "stream",
     "text": [
      "[11, 12, 13]\n",
      "13\n",
      "[11, 12, 13, 14]\n",
      "[11, 12, 13, 14, [15, 16, 17]]\n",
      "16\n",
      "[11, 12, 13, 14, [15, 16, 17], 18, 19]\n",
      "[11, 12, 13, 14, [15, 16, 17], 18, 19, 20]\n"
     ]
    }
   ],
   "source": [
    "                # Summary\n",
    "#for remove index we from sub list which is([6,7,8,9])\n",
    "\n",
    "num = [11,12,13]\n",
    "print(num)\n",
    "print(num[2])\n",
    "\n",
    "#adding one index 14\n",
    "num.append(14)\n",
    "print(num)\n",
    "\n",
    "#adding list \n",
    "num.append([15,16,17])\n",
    "print(num)\n",
    "#finding sub list value like this [11, 12, 13, 14, [15, 16, 17]]\n",
    "print(num[4][1])\n",
    "\n",
    "#adding index trough use of extend\n",
    "num.extend([18,19])\n",
    "print(num)\n",
    "\n",
    "#INSERT NEW VALUE\n",
    "num.insert(9,20)\n",
    "print(num)\n",
    "\n"
   ]
  },
  {
   "cell_type": "code",
   "execution_count": 58,
   "id": "c2af80d4",
   "metadata": {},
   "outputs": [
    {
     "name": "stdout",
     "output_type": "stream",
     "text": [
      "Found\n",
      "not Found\n",
      "not Found\n",
      "not Found\n"
     ]
    }
   ],
   "source": [
    "cities = [\"Karachi\" ,\"Qamber\" ,\"Larkana\",\"Sukker\"]\n",
    "\n",
    "cities_tup =(\"Karachi\" ,\"Qamber\" ,\"Larkana\",\"Sukker\")\n",
    "\n",
    "city_of_light = \"Karachi\"\n",
    "\n",
    "for C in range(len(cities)):\n",
    "    if city_of_light == cities[C]:\n",
    "        print(\"Found\")\n",
    "    else :\n",
    "        print(\"not Found\")"
   ]
  },
  {
   "cell_type": "code",
   "execution_count": 57,
   "id": "c71b434f",
   "metadata": {},
   "outputs": [
    {
     "name": "stdout",
     "output_type": "stream",
     "text": [
      "Found\n"
     ]
    }
   ],
   "source": [
    "# IN this example we are going to find city and if the city will found then it will brack on the spot\n",
    "\n",
    "cities = [\"Karachi\" ,\"Qamber\" ,\"Larkana\",\"Sukker\"]\n",
    "\n",
    "city_of_light = \"Karachi\"\n",
    "city_of_beauty= \"Sukker\"\n",
    "\n",
    "for C in range(len(cities)):\n",
    "    if city_of_light.lower() == cities[C].lower():\n",
    "        print(\"Found\")\n",
    "        break\n",
    "    elif  city_of_beauty == cities_tup:\n",
    "        print(\"Found\")\n",
    "        break\n",
    "    else :\n",
    "        print(\"not Found\")"
   ]
  },
  {
   "cell_type": "code",
   "execution_count": 1,
   "id": "c5119319",
   "metadata": {},
   "outputs": [
    {
     "name": "stdout",
     "output_type": "stream",
     "text": [
      "sami\n",
      "Welcome on board 007\n"
     ]
    }
   ],
   "source": [
    "\n",
    "                        #Type your answer here.\n",
    "                            #EXERICE\n"
   ]
  },
  {
   "cell_type": "code",
   "execution_count": 2,
   "id": "b8b6ff36",
   "metadata": {},
   "outputs": [
    {
     "name": "stdout",
     "output_type": "stream",
     "text": [
      "sami\n",
      "Welcome on board 007\n"
     ]
    }
   ],
   "source": [
    "#Write an if statement that asks for the user's name via input() function. \n",
    "#If the name is \"Bond\" make it print \"Welcome on board 007.\"\n",
    "# Otherwise make it print \"Good morning NAME\". (Replace Name with user's name)\n",
    "\n",
    "#Type your answer here.\n",
    "name=input()\n",
    "if name  == \"Bond\":\n",
    "    print(\"Welcome on board 007\")\n",
    "else :\n",
    "    print(\"Good morning Name\"+name)\n",
    "\n",
    "\n"
   ]
  },
  {
   "cell_type": "code",
   "execution_count": 6,
   "id": "bde3992c",
   "metadata": {},
   "outputs": [
    {
     "name": "stdout",
     "output_type": "stream",
     "text": [
      "BOND\n",
      "Welcome on board 007\n"
     ]
    }
   ],
   "source": [
    "#Do the same thing as exercise 7-a \n",
    "#this time making sure if the name is bond with lower case b it still prints \"Welcome on board 007.\"\n",
    "name=input()\n",
    "if name.lower()  == \"bond\":\n",
    "    print(\"Welcome on board 007\")\n",
    "else :\n",
    "    print(\"Good morning Name\")\n",
    "\n"
   ]
  },
  {
   "cell_type": "code",
   "execution_count": 1,
   "id": "2e4fe134",
   "metadata": {},
   "outputs": [
    {
     "name": "stdout",
     "output_type": "stream",
     "text": [
      "False\n",
      "True\n"
     ]
    }
   ],
   "source": [
    "#Write a function named \"evens\" which returns True if a number is even and otherwise returns False.\n",
    "\n",
    "#Type your code here.\n",
    "\n",
    "\n",
    "#Type your code here.\n",
    "\n",
    "\n",
    "def evens(i):\n",
    "    if i % 2 == 0:\n",
    "        return True\n",
    "    else:\n",
    "        return False\n",
    "\n",
    "print(evens(99))\n",
    "print(evens(98))\n",
    "\n"
   ]
  },
  {
   "cell_type": "code",
   "execution_count": null,
   "id": "73ce97dd",
   "metadata": {},
   "outputs": [],
   "source": []
  }
 ],
 "metadata": {
  "kernelspec": {
   "display_name": "Python 3 (ipykernel)",
   "language": "python",
   "name": "python3"
  },
  "language_info": {
   "codemirror_mode": {
    "name": "ipython",
    "version": 3
   },
   "file_extension": ".py",
   "mimetype": "text/x-python",
   "name": "python",
   "nbconvert_exporter": "python",
   "pygments_lexer": "ipython3",
   "version": "3.11.3"
  }
 },
 "nbformat": 4,
 "nbformat_minor": 5
}
